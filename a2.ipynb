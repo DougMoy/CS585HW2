{
 "cells": [
  {
   "cell_type": "code",
   "execution_count": 60,
   "outputs": [],
   "source": [
    "import cv2\n",
    "import numpy as np"
   ],
   "metadata": {
    "collapsed": false,
    "ExecuteTime": {
     "end_time": "2024-02-12T22:43:09.133089600Z",
     "start_time": "2024-02-12T22:43:09.122245800Z"
    }
   },
   "id": "6ac596a2f72fda19"
  },
  {
   "cell_type": "code",
   "execution_count": 61,
   "outputs": [],
   "source": [
    "def resize_and_crop_image(image):\n",
    "    ratio = 1\n",
    "    max_edge = max(image.shape[0], image.shape[1])\n",
    "    while max_edge > 1000:\n",
    "        ratio *= 2\n",
    "        max_edge //= 2\n",
    "\n",
    "    rows = image.shape[0] // ratio\n",
    "    cols = image.shape[1] // ratio\n",
    "\n",
    "    # print(f\"resize ratio = {ratio}.\")\n",
    "    image_resized = cv2.resize(image, (cols, rows))\n",
    "    # print(image_resized.shape)\n",
    "    if CROP:\n",
    "        size = min(cols, rows)\n",
    "        return image_resized[:size, :size]\n",
    "    else:\n",
    "        return image_resized"
   ],
   "metadata": {
    "collapsed": false,
    "ExecuteTime": {
     "end_time": "2024-02-12T22:43:09.133089600Z",
     "start_time": "2024-02-12T22:43:09.123752900Z"
    }
   },
   "id": "a05f8989520cb862"
  },
  {
   "cell_type": "code",
   "execution_count": 62,
   "outputs": [],
   "source": [
    "def RGBRange(image):\n",
    "    hsv = cv2.cvtColor(image, cv2.COLOR_BGR2HSV)\n",
    "    lower_skin = np.array([0, 48, 80], dtype=\"uint8\")\n",
    "    upper_skin = np.array([20, 255, 255], dtype=\"uint8\")\n",
    "    skinMask = cv2.inRange(hsv, lower_skin, upper_skin)\n",
    "    skin = cv2.bitwise_and(image, image, mask=skinMask)\n",
    "    return skin"
   ],
   "metadata": {
    "collapsed": false,
    "ExecuteTime": {
     "end_time": "2024-02-12T22:43:09.133089600Z",
     "start_time": "2024-02-12T22:43:09.127449900Z"
    }
   },
   "id": "a6b8f441e41eba21"
  },
  {
   "cell_type": "code",
   "execution_count": 63,
   "outputs": [],
   "source": [
    "def morph_image(image,morph, kernel_size):\n",
    "    def erosion(image_cv, kernel_size = 4):\n",
    "        kernel = cv2.getStructuringElement(cv2.MORPH_RECT, (kernel_size,kernel_size))\n",
    "        image_cv_eroded = cv2.erode(image_cv, kernel)\n",
    "        return image_cv_eroded\n",
    "    def dilate(image_cv, kernel_size = 4):\n",
    "        kernel = cv2.getStructuringElement(cv2.MORPH_RECT, (kernel_size,kernel_size))\n",
    "        image_cv_dilated = cv2.dilate(image_cv, kernel)\n",
    "        return image_cv_dilated\n",
    "    if morph == 'dilate':\n",
    "        image_morphed = dilate(image,kernel_size = kernel_size)\n",
    "    elif morph == 'erode':\n",
    "        image_morphed = erosion(image,kernel_size = kernel_size)\n",
    "    else:\n",
    "        raise NotImplementedError\n",
    "    return image_morphed\n",
    "\n",
    "def BinaryRange(image):\n",
    "    threshold = 145\n",
    "    img_gray = cv2.cvtColor(image, cv2.COLOR_BGR2GRAY)\n",
    "    _, img_thresh = cv2.threshold(img_gray, threshold, 255, cv2.THRESH_BINARY_INV)\n",
    "    img_thresh = morph_image(img_thresh,morph='erode',kernel_size=6)\n",
    "    img_thresh = morph_image(img_thresh,morph='dilate',kernel_size=6)\n",
    "    return img_thresh"
   ],
   "metadata": {
    "collapsed": false,
    "ExecuteTime": {
     "end_time": "2024-02-12T22:43:09.138087500Z",
     "start_time": "2024-02-12T22:43:09.131773500Z"
    }
   },
   "id": "6ae91d732e7e329a"
  },
  {
   "cell_type": "code",
   "execution_count": 64,
   "outputs": [],
   "source": [
    "EXP = True\n",
    "CROP = False"
   ],
   "metadata": {
    "collapsed": false,
    "ExecuteTime": {
     "end_time": "2024-02-12T22:43:09.138087500Z",
     "start_time": "2024-02-12T22:43:09.134597900Z"
    }
   },
   "id": "initial_id"
  },
  {
   "cell_type": "code",
   "execution_count": 65,
   "outputs": [],
   "source": [
    "mode = \"gray\"\n",
    "process_method = None\n",
    "if mode == \"rgb\":\n",
    "    process_method = RGBRange\n",
    "elif mode == \"gray\":\n",
    "    process_method = BinaryRange\n",
    "    \n",
    "assert process_method is not None\n",
    "\n",
    "def process_func(image):\n",
    "    return process_method(resize_and_crop_image(image))\n"
   ],
   "metadata": {
    "collapsed": false,
    "ExecuteTime": {
     "end_time": "2024-02-12T22:43:09.142624500Z",
     "start_time": "2024-02-12T22:43:09.139087100Z"
    }
   },
   "id": "6dfc3eb0f6d91a0a"
  },
  {
   "cell_type": "code",
   "execution_count": 66,
   "outputs": [],
   "source": [
    "import os\n",
    "\n",
    "# Define paths\n",
    "VIDEO_NAME = \"fingers\"\n",
    "FVideo = f'videos/{VIDEO_NAME}.mp4'\n",
    "WORKDIR = f\"videos/{VIDEO_NAME}/\"\n",
    "os.makedirs(WORKDIR, exist_ok=True)\n",
    "FFirst = WORKDIR + \"first.png\"  # Filename for the first frame image\n",
    "FOutput = WORKDIR + f\"{mode}.mp4\"  # Filename for the output video"
   ],
   "metadata": {
    "collapsed": false,
    "ExecuteTime": {
     "end_time": "2024-02-12T22:43:09.154474Z",
     "start_time": "2024-02-12T22:43:09.142624500Z"
    }
   },
   "id": "8c2ce514a52d5023"
  },
  {
   "cell_type": "code",
   "execution_count": 67,
   "outputs": [],
   "source": [
    "# Create video capture object\n",
    "vidCap = cv2.VideoCapture(FVideo)\n",
    "\n",
    "# Get video properties for the output video\n",
    "\n",
    "fps = vidCap.get(cv2.CAP_PROP_FPS)\n",
    "fourcc = cv2.VideoWriter_fourcc(*'mp4v')\n",
    "    \n",
    "\n",
    "# Process video frames\n",
    "success, image = vidCap.read()\n",
    "assert success\n",
    "\n",
    "cv2.imwrite(FFirst, image)\n",
    "\n",
    "skin = process_func(image)\n",
    "# Show the result\n",
    "cv2.imshow(\"Skin detection\", skin)\n",
    "cv2.waitKey(0)\n",
    "cv2.destroyAllWindows()\n",
    "        \n",
    "if not EXP:\n",
    "    # frame_width = int(vidCap.get(cv2.CAP_PROP_FRAME_WIDTH))\n",
    "    # frame_height = int(vidCap.get(cv2.CAP_PROP_FRAME_HEIGHT))\n",
    "    frame_width = skin.shape[1]\n",
    "    frame_height = skin.shape[0]\n",
    "    out = cv2.VideoWriter(FOutput, fourcc, fps, (frame_width, frame_height))\n",
    "    \n",
    "    while success:\n",
    "        # Apply skin detection\n",
    "        skin = process_func(image)\n",
    "        # Write the processed frame\n",
    "        out.write(skin)\n",
    "        success, image = vidCap.read()\n",
    "\n",
    "    out.release()\n",
    "    \n",
    "\n",
    "# Release resources\n",
    "vidCap.release()\n",
    "cv2.destroyAllWindows()\n"
   ],
   "metadata": {
    "collapsed": false,
    "ExecuteTime": {
     "end_time": "2024-02-12T22:43:25.327975800Z",
     "start_time": "2024-02-12T22:43:09.146474300Z"
    }
   },
   "id": "57f7a9b762201c55"
  },
  {
   "cell_type": "code",
   "execution_count": 67,
   "outputs": [],
   "source": [],
   "metadata": {
    "collapsed": false,
    "ExecuteTime": {
     "end_time": "2024-02-12T22:43:25.328976700Z",
     "start_time": "2024-02-12T22:43:25.296449500Z"
    }
   },
   "id": "f956e68b713ad4b2"
  }
 ],
 "metadata": {
  "kernelspec": {
   "display_name": "Python 3",
   "language": "python",
   "name": "python3"
  },
  "language_info": {
   "codemirror_mode": {
    "name": "ipython",
    "version": 2
   },
   "file_extension": ".py",
   "mimetype": "text/x-python",
   "name": "python",
   "nbconvert_exporter": "python",
   "pygments_lexer": "ipython2",
   "version": "2.7.6"
  }
 },
 "nbformat": 4,
 "nbformat_minor": 5
}
