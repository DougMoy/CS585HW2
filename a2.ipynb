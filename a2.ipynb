{
 "cells": [
  {
   "cell_type": "code",
   "execution_count": 77,
   "outputs": [],
   "source": [
    "import cv2\n",
    "import numpy as np"
   ],
   "metadata": {
    "collapsed": false,
    "ExecuteTime": {
     "end_time": "2024-02-13T04:25:19.964398500Z",
     "start_time": "2024-02-13T04:25:19.948783900Z"
    }
   },
   "id": "6ac596a2f72fda19"
  },
  {
   "cell_type": "code",
   "execution_count": 78,
   "outputs": [],
   "source": [
    "def resize_and_crop_image(image):\n",
    "    ratio = 1\n",
    "    max_edge = max(image.shape[0], image.shape[1])\n",
    "    while max_edge > 1000:\n",
    "        ratio *= 2\n",
    "        max_edge //= 2\n",
    "\n",
    "    rows = image.shape[0] // ratio\n",
    "    cols = image.shape[1] // ratio\n",
    "\n",
    "    # print(f\"resize ratio = {ratio}.\")\n",
    "    image_resized = cv2.resize(image, (cols, rows))\n",
    "    # print(image_resized.shape)\n",
    "    if CROP:\n",
    "        size = min(cols, rows)\n",
    "        return image_resized[:size, :size]\n",
    "    else:\n",
    "        return image_resized"
   ],
   "metadata": {
    "collapsed": false,
    "ExecuteTime": {
     "end_time": "2024-02-13T04:25:19.964398500Z",
     "start_time": "2024-02-13T04:25:19.950386200Z"
    }
   },
   "id": "a05f8989520cb862"
  },
  {
   "cell_type": "code",
   "execution_count": 79,
   "outputs": [],
   "source": [
    "def RGBRange(image):\n",
    "    hsv = cv2.cvtColor(image, cv2.COLOR_BGR2HSV)\n",
    "    lower_skin = np.array([0, 48, 80], dtype=\"uint8\")\n",
    "    upper_skin = np.array([20, 255, 255], dtype=\"uint8\")\n",
    "    skinMask = cv2.inRange(hsv, lower_skin, upper_skin)\n",
    "    skin = cv2.bitwise_and(image, image, mask=skinMask)\n",
    "    return skin"
   ],
   "metadata": {
    "collapsed": false,
    "ExecuteTime": {
     "end_time": "2024-02-13T04:25:19.964398500Z",
     "start_time": "2024-02-13T04:25:19.954025900Z"
    }
   },
   "id": "a6b8f441e41eba21"
  },
  {
   "cell_type": "code",
   "execution_count": 80,
   "outputs": [],
   "source": [
    "def morph_image(image,morph, kernel_size):\n",
    "    def erosion(image_cv, kernel_size = 4):\n",
    "        kernel = cv2.getStructuringElement(cv2.MORPH_RECT, (kernel_size,kernel_size))\n",
    "        image_cv_eroded = cv2.erode(image_cv, kernel)\n",
    "        return image_cv_eroded\n",
    "    def dilate(image_cv, kernel_size = 4):\n",
    "        kernel = cv2.getStructuringElement(cv2.MORPH_RECT, (kernel_size,kernel_size))\n",
    "        image_cv_dilated = cv2.dilate(image_cv, kernel)\n",
    "        return image_cv_dilated\n",
    "    if morph == 'dilate':\n",
    "        image_morphed = dilate(image,kernel_size = kernel_size)\n",
    "    elif morph == 'erode':\n",
    "        image_morphed = erosion(image,kernel_size = kernel_size)\n",
    "    else:\n",
    "        raise NotImplementedError\n",
    "    return image_morphed\n",
    "\n",
    "def BinaryThreshold(image):\n",
    "    threshold = 145\n",
    "    img_gray = cv2.cvtColor(image, cv2.COLOR_BGR2GRAY)\n",
    "    _, img_thresh = cv2.threshold(img_gray, threshold, 255, cv2.THRESH_BINARY)\n",
    "    img_thresh = morph_image(img_thresh, morph='erode', kernel_size=6)\n",
    "    img_thresh = morph_image(img_thresh, morph='dilate', kernel_size=6)\n",
    "    return img_thresh"
   ],
   "metadata": {
    "collapsed": false,
    "ExecuteTime": {
     "end_time": "2024-02-13T04:25:19.964398500Z",
     "start_time": "2024-02-13T04:25:19.958163500Z"
    }
   },
   "id": "6ae91d732e7e329a"
  },
  {
   "cell_type": "code",
   "execution_count": 81,
   "outputs": [],
   "source": [
    "def get_contours(img_thresh):\n",
    "    contours, hierarchy = cv2.findContours(img_thresh, cv2.RETR_TREE, cv2.CHAIN_APPROX_SIMPLE)\n",
    "    return contours\n",
    "\n",
    "def draw_contours(cv_image, contours, fill='line'):\n",
    "    if fill=='solid':\n",
    "        cv_image_out = cv2.drawContours(cv_image, contours, -1, (0,255,0), cv2.FILLED)\n",
    "    else:\n",
    "        cv_image_out = cv2.drawContours(cv_image, contours, -1, (0,255,0), 1)\n",
    "    return cv_image_out\n",
    "\n",
    "def draw_detected(img):\n",
    "    img_thresh = BinaryThreshold(img)\n",
    "    contours = get_contours(img_thresh)\n",
    "    crop_img = draw_contours(img, contours, fill='solid')\n",
    "    return crop_img"
   ],
   "metadata": {
    "collapsed": false,
    "ExecuteTime": {
     "end_time": "2024-02-13T04:25:19.964398500Z",
     "start_time": "2024-02-13T04:25:19.960840400Z"
    }
   },
   "id": "f37484f914bae6a"
  },
  {
   "cell_type": "code",
   "execution_count": 82,
   "outputs": [],
   "source": [
    "EXP = True\n",
    "CROP = False"
   ],
   "metadata": {
    "collapsed": false,
    "ExecuteTime": {
     "end_time": "2024-02-13T04:25:19.972633100Z",
     "start_time": "2024-02-13T04:25:19.964398500Z"
    }
   },
   "id": "initial_id"
  },
  {
   "cell_type": "code",
   "execution_count": 83,
   "outputs": [],
   "source": [
    "mode = \"gray\"\n",
    "process_method = None\n",
    "if mode == \"rgb\":\n",
    "    process_method = RGBRange\n",
    "elif mode == \"gray\":\n",
    "    process_method = BinaryThreshold\n",
    "    \n",
    "    \n",
    "assert process_method is not None\n",
    "\n",
    "def process_func(image):\n",
    "    return process_method(resize_and_crop_image(image))\n"
   ],
   "metadata": {
    "collapsed": false,
    "ExecuteTime": {
     "end_time": "2024-02-13T04:25:19.972633100Z",
     "start_time": "2024-02-13T04:25:19.967591700Z"
    }
   },
   "id": "6dfc3eb0f6d91a0a"
  },
  {
   "cell_type": "code",
   "execution_count": 84,
   "outputs": [],
   "source": [
    "import os\n",
    "\n",
    "# Define paths\n",
    "VIDEO_NAME = \"fingers\"\n",
    "FVideo = f'videos/{VIDEO_NAME}.mp4'\n",
    "WORKDIR = f\"videos/{VIDEO_NAME}/\"\n",
    "os.makedirs(WORKDIR, exist_ok=True)\n",
    "FFirst = WORKDIR + \"first.png\"  # Filename for the first frame image\n",
    "FOutput = WORKDIR + f\"{mode}.mp4\"  # Filename for the output video"
   ],
   "metadata": {
    "collapsed": false,
    "ExecuteTime": {
     "end_time": "2024-02-13T04:25:19.985141200Z",
     "start_time": "2024-02-13T04:25:19.971098100Z"
    }
   },
   "id": "8c2ce514a52d5023"
  },
  {
   "cell_type": "code",
   "execution_count": 85,
   "outputs": [],
   "source": [
    "# Create video capture object\n",
    "vidCap = cv2.VideoCapture(FVideo)\n",
    "\n",
    "# Get video properties for the output video\n",
    "\n",
    "fps = vidCap.get(cv2.CAP_PROP_FPS)\n",
    "fourcc = cv2.VideoWriter_fourcc(*'mp4v')\n",
    "    \n",
    "\n",
    "# Process video frames\n",
    "success, image = vidCap.read()\n",
    "assert success\n",
    "\n",
    "cv2.imwrite(FFirst, image)\n",
    "\n",
    "skin = process_func(image)\n",
    "# Show the result\n",
    "cv2.imshow(\"Skin detection\", skin)\n",
    "cv2.waitKey(0)\n",
    "cv2.destroyAllWindows()\n",
    "\n",
    "detected_img = draw_detected(image)\n",
    "cv2.imshow(\"detected image\", detected_img)\n",
    "cv2.waitKey(0)\n",
    "cv2.destroyAllWindows()\n",
    "\n",
    "        \n",
    "if not EXP:\n",
    "    # frame_width = int(vidCap.get(cv2.CAP_PROP_FRAME_WIDTH))\n",
    "    # frame_height = int(vidCap.get(cv2.CAP_PROP_FRAME_HEIGHT))\n",
    "    frame_width = skin.shape[1]\n",
    "    frame_height = skin.shape[0]\n",
    "    out = cv2.VideoWriter(FOutput, fourcc, fps, (frame_width, frame_height))\n",
    "    \n",
    "    while success:\n",
    "        # Apply skin detection\n",
    "        skin = process_func(image)\n",
    "        # Write the processed frame\n",
    "        out.write(skin)\n",
    "        success, image = vidCap.read()\n",
    "\n",
    "    out.release()\n",
    "    \n",
    "\n",
    "# Release resources\n",
    "vidCap.release()\n",
    "cv2.destroyAllWindows()\n"
   ],
   "metadata": {
    "collapsed": false,
    "ExecuteTime": {
     "end_time": "2024-02-13T04:25:32.390783600Z",
     "start_time": "2024-02-13T04:25:19.975142200Z"
    }
   },
   "id": "57f7a9b762201c55"
  },
  {
   "cell_type": "code",
   "execution_count": 85,
   "outputs": [],
   "source": [],
   "metadata": {
    "collapsed": false,
    "ExecuteTime": {
     "end_time": "2024-02-13T04:25:32.390783600Z",
     "start_time": "2024-02-13T04:25:32.371009700Z"
    }
   },
   "id": "f956e68b713ad4b2"
  }
 ],
 "metadata": {
  "kernelspec": {
   "display_name": "Python 3",
   "language": "python",
   "name": "python3"
  },
  "language_info": {
   "codemirror_mode": {
    "name": "ipython",
    "version": 2
   },
   "file_extension": ".py",
   "mimetype": "text/x-python",
   "name": "python",
   "nbconvert_exporter": "python",
   "pygments_lexer": "ipython2",
   "version": "2.7.6"
  }
 },
 "nbformat": 4,
 "nbformat_minor": 5
}
