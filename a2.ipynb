{
 "cells": [
  {
   "cell_type": "code",
   "execution_count": 13,
   "outputs": [],
   "source": [
    "import cv2\n",
    "import numpy as np"
   ],
   "metadata": {
    "collapsed": false,
    "ExecuteTime": {
     "end_time": "2024-02-12T22:25:13.334312900Z",
     "start_time": "2024-02-12T22:25:13.316104600Z"
    }
   },
   "id": "6ac596a2f72fda19"
  },
  {
   "cell_type": "code",
   "execution_count": 14,
   "outputs": [],
   "source": [
    "def resize_and_crop_image(image):\n",
    "    ratio = 1\n",
    "    max_edge = max(image.shape[0], image.shape[1])\n",
    "    while max_edge > 1000:\n",
    "        ratio *= 2\n",
    "        max_edge //= 2\n",
    "\n",
    "    rows = image.shape[0] // ratio\n",
    "    cols = image.shape[1] // ratio\n",
    "\n",
    "    # print(f\"resize ratio = {ratio}.\")\n",
    "    image_resized = cv2.resize(image, (cols, rows))\n",
    "    # print(image_resized.shape)\n",
    "    if CROP:\n",
    "        size = min(cols, rows)\n",
    "        return image_resized[:size, :size]\n",
    "    else:\n",
    "        return image_resized"
   ],
   "metadata": {
    "collapsed": false,
    "ExecuteTime": {
     "end_time": "2024-02-12T22:25:13.334817Z",
     "start_time": "2024-02-12T22:25:13.319165300Z"
    }
   },
   "id": "a05f8989520cb862"
  },
  {
   "cell_type": "code",
   "execution_count": 15,
   "outputs": [],
   "source": [
    "def RGBRange(image):\n",
    "    hsv = cv2.cvtColor(image, cv2.COLOR_BGR2HSV)\n",
    "    lower_skin = np.array([0, 48, 80], dtype=\"uint8\")\n",
    "    upper_skin = np.array([20, 255, 255], dtype=\"uint8\")\n",
    "    skinMask = cv2.inRange(hsv, lower_skin, upper_skin)\n",
    "    skin = cv2.bitwise_and(image, image, mask=skinMask)\n",
    "    return skin"
   ],
   "metadata": {
    "collapsed": false,
    "ExecuteTime": {
     "end_time": "2024-02-12T22:25:13.334817Z",
     "start_time": "2024-02-12T22:25:13.322645600Z"
    }
   },
   "id": "a6b8f441e41eba21"
  },
  {
   "cell_type": "code",
   "execution_count": 16,
   "outputs": [],
   "source": [
    "EXP = True\n",
    "CROP = False"
   ],
   "metadata": {
    "collapsed": false,
    "ExecuteTime": {
     "end_time": "2024-02-12T22:25:13.334817Z",
     "start_time": "2024-02-12T22:25:13.325675900Z"
    }
   },
   "id": "initial_id"
  },
  {
   "cell_type": "code",
   "execution_count": 17,
   "outputs": [],
   "source": [
    "mode = \"rgb\"\n",
    "process_method = None\n",
    "if mode == \"rgb\":\n",
    "    process_method = RGBRange\n",
    "    \n",
    "    \n",
    "assert process_method is not None\n",
    "\n",
    "def process_func(image):\n",
    "    return process_method(resize_and_crop_image(image))\n"
   ],
   "metadata": {
    "collapsed": false,
    "ExecuteTime": {
     "end_time": "2024-02-12T22:25:13.334817Z",
     "start_time": "2024-02-12T22:25:13.329775300Z"
    }
   },
   "id": "6dfc3eb0f6d91a0a"
  },
  {
   "cell_type": "code",
   "execution_count": 18,
   "outputs": [],
   "source": [
    "import os\n",
    "\n",
    "# Define paths\n",
    "VIDEO_NAME = \"fingers\"\n",
    "FVideo = f'videos/{VIDEO_NAME}.mp4'\n",
    "WORKDIR = f\"videos/{VIDEO_NAME}/\"\n",
    "os.makedirs(WORKDIR, exist_ok=True)\n",
    "FFirst = WORKDIR + \"first.png\"  # Filename for the first frame image\n",
    "FOutput = WORKDIR + f\"{mode}.mp4\"  # Filename for the output video"
   ],
   "metadata": {
    "collapsed": false,
    "ExecuteTime": {
     "end_time": "2024-02-12T22:25:13.335820800Z",
     "start_time": "2024-02-12T22:25:13.332987300Z"
    }
   },
   "id": "8c2ce514a52d5023"
  },
  {
   "cell_type": "code",
   "execution_count": 19,
   "outputs": [],
   "source": [
    "# Create video capture object\n",
    "vidCap = cv2.VideoCapture(FVideo)\n",
    "\n",
    "# Get video properties for the output video\n",
    "\n",
    "fps = vidCap.get(cv2.CAP_PROP_FPS)\n",
    "fourcc = cv2.VideoWriter_fourcc(*'mp4v')\n",
    "    \n",
    "\n",
    "# Process video frames\n",
    "success, image = vidCap.read()\n",
    "assert success\n",
    "\n",
    "cv2.imwrite(FFirst, image)\n",
    "\n",
    "skin = process_func(image)\n",
    "# Show the result\n",
    "cv2.imshow(\"Skin detection\", skin)\n",
    "cv2.waitKey(0)\n",
    "cv2.destroyAllWindows()\n",
    "        \n",
    "if not EXP:\n",
    "    # frame_width = int(vidCap.get(cv2.CAP_PROP_FRAME_WIDTH))\n",
    "    # frame_height = int(vidCap.get(cv2.CAP_PROP_FRAME_HEIGHT))\n",
    "    frame_width = skin.shape[1]\n",
    "    frame_height = skin.shape[0]\n",
    "    out = cv2.VideoWriter(FOutput, fourcc, fps, (frame_width, frame_height))\n",
    "    \n",
    "    while success:\n",
    "        # Apply skin detection\n",
    "        skin = process_func(image)\n",
    "        # Write the processed frame\n",
    "        out.write(skin)\n",
    "        success, image = vidCap.read()\n",
    "\n",
    "    out.release()\n",
    "    \n",
    "\n",
    "# Release resources\n",
    "vidCap.release()\n",
    "cv2.destroyAllWindows()\n"
   ],
   "metadata": {
    "collapsed": false,
    "ExecuteTime": {
     "end_time": "2024-02-12T22:25:22.092550300Z",
     "start_time": "2024-02-12T22:25:13.336820800Z"
    }
   },
   "id": "57f7a9b762201c55"
  },
  {
   "cell_type": "code",
   "execution_count": 19,
   "outputs": [],
   "source": [],
   "metadata": {
    "collapsed": false,
    "ExecuteTime": {
     "end_time": "2024-02-12T22:25:22.092550300Z",
     "start_time": "2024-02-12T22:25:22.083044Z"
    }
   },
   "id": "f956e68b713ad4b2"
  }
 ],
 "metadata": {
  "kernelspec": {
   "display_name": "Python 3",
   "language": "python",
   "name": "python3"
  },
  "language_info": {
   "codemirror_mode": {
    "name": "ipython",
    "version": 2
   },
   "file_extension": ".py",
   "mimetype": "text/x-python",
   "name": "python",
   "nbconvert_exporter": "python",
   "pygments_lexer": "ipython2",
   "version": "2.7.6"
  }
 },
 "nbformat": 4,
 "nbformat_minor": 5
}
